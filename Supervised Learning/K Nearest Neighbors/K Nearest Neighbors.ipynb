{
 "cells": [
  {
   "cell_type": "markdown",
   "metadata": {},
   "source": [
    "---\n",
    "\n",
    "# K Nearest Neighbors\n",
    "\n",
    "## Introduction\n",
    "\n",
    "The k-nearest neighbors (KNN) algorithm is a data classification method for estimating the likelihood that a data point will become a member of one group or another based on what group the data points nearest to it belong to.\n",
    "\n",
    "The k-nearest neighbor algorithm is a type of supervised machine learning algorithm used to solve classification and regression problems. However, it's mainly used for classification problems.\n",
    "\n",
    "<p>\n",
    "    <img src=\"KNN.png\" width=\"500\" align=\"center\">\n",
    "</p>\n",
    "\n",
    "KNN is a lazy learning and non-parametric algorithm. It's called a lazy learning algorithm or lazy learner because it doesn't perform any training when you supply the training data. Instead, it just stores the data during the training time and doesn't perform any calculations. It doesn't build a model until a query is performed on the dataset. This makes KNN ideal for data mining.\n",
    "\n",
    "It's considered a non-parametric method because it doesn’t make any assumptions about the underlying data distribution. Simply put, KNN tries to determine what group a data point belongs to by looking at the data points around it.\n",
    "\n",
    "## Algorithm\n",
    "\n",
    "1. Load the data\n",
    "2. Initialize K to your chosen number of neighbors\n",
    "3. For each data point in the data\n",
    " - Find the Euclidean distance to all training data samplesa. \n",
    "   $$d(p, q) = \\sqrt{(p - q)^{T} (p - q)}$$\n",
    " - Store the distances on an ordered list and sort it\n",
    " - Choose the top K entries from the sorted list\n",
    " - Label the test point based on the majority of classes present in the selected points\n",
    "4. End\n",
    "\n",
    "To validate the accuracy of the KNN classification, a confusion matrix is used. \n",
    "\n",
    "## Choosing the right value for K\n",
    "\n",
    "To select the K that’s right for your data, we run the KNN algorithm several times with different values of K and choose the K that reduces the number of errors we encounter while maintaining the algorithm’s ability to accurately make predictions when it’s given data it hasn’t seen before.\n",
    "\n",
    "Here are some things to keep in mind:\n",
    "\n",
    "1. As we decrease the value of K to 1, our predictions become less stable. Just think for a minute, imagine K=1 and we have a query point surrounded by several reds and one green (I’m thinking about the top left corner of the colored plot above), but the green is the single nearest neighbor. Reasonably, we would think the query point is most likely red, but because K=1, KNN incorrectly predicts that the query point is green.\n",
    "\n",
    "2. Inversely, as we increase the value of K, our predictions become more stable due to majority voting / averaging, and thus, more likely to make more accurate predictions (up to a certain point). Eventually, we begin to witness an increasing number of errors. It is at this point we know we have pushed the value of K too far.\n",
    "\n",
    "3. In cases where we are taking a majority vote (e.g. picking the mode in a classification problem) among labels, we usually make K an odd number to have a tiebreaker.\n",
    "\n",
    "### Then how to select the optimal K value?\n",
    "\n",
    "* There are no pre-defined statistical methods to find the most favorable value of K.\n",
    "\n",
    "* Initialize a random K value and start computing.\n",
    "\n",
    "* Choosing a small value of K leads to unstable decision boundaries.\n",
    "\n",
    "* The substantial K value is better for classification as it leads to smoothening the decision boundaries.\n",
    "\n",
    "* Derive a plot between error rate and K denoting values in a defined range. Choose the K value having the minimum error rate. \n",
    "\n",
    "### Advantages\n",
    "\n",
    "* The algorithm is simple and easy to implement.\n",
    "\n",
    "* There’s no need to build a model, tune several parameters, or make additional assumptions.\n",
    "\n",
    "* The algorithm is versatile. It can be used for classification, regression, and search (as we will see in the next section).\n",
    "\n",
    "\n",
    "\n",
    "### Disadvantages\n",
    "\n",
    "* The algorithm gets significantly slower as the number of examples and/or predictors/independent variables increase.\n",
    "\n",
    "---\n",
    "\n",
    "## Implement\n",
    "\n",
    "Fisrt, we load the data and visualize it."
   ]
  },
  {
   "cell_type": "code",
   "execution_count": 2,
   "metadata": {},
   "outputs": [
    {
     "data": {
      "image/png": "[encoded data removed]",
      "text/plain": [
       "<Figure size 720x576 with 1 Axes>"
      ]
     },
     "metadata": {},
     "output_type": "display_data"
    }
   ],
   "source": [
    "import matplotlib.pyplot as plt\n",
    "import numpy as np\n",
    "import pandas as pd\n",
    "import seaborn as sns\n",
    "from sklearn.model_selection import train_test_split\n",
    "\n",
    "# Set theme for plotting\n",
    "sns.set_theme()\n",
    "\n",
    "# Import the data\n",
    "df = pd.read_csv(\"classification.csv\")\n",
    "results = [0.0, 1.0]\n",
    "colors = [\"red\", \"green\"]\n",
    "fig, ax = plt.subplots(figsize = (10, 8))\n",
    "for results, colors in zip(results, colors):\n",
    "    temp_df = df[df.success == results]\n",
    "    ax.scatter(temp_df.age,\n",
    "               temp_df.interest,\n",
    "               c = colors,\n",
    "               label = int(results), \n",
    "               )\n",
    "    \n",
    "ax.set_xlabel(\"age\", fontsize = 15)\n",
    "ax.set_ylabel(\"interest\", fontsize = 15)\n",
    "ax.legend()\n",
    "plt.show()"
   ]
  },
  {
   "cell_type": "markdown",
   "metadata": {},
   "source": [
    "From the plot above, we can see that similar data exist in close proximity. Where label \"1\" represents the success and the \"0\" represents fail.\n",
    "\n",
    "Next, we create a training set and testing set and define the Euclidean distance function."
   ]
  },
  {
   "cell_type": "code",
   "execution_count": 13,
   "metadata": {},
   "outputs": [],
   "source": [
    "X = df[[\"age\",\"interest\"]].to_numpy()\n",
    "\n",
    "y = df[\"success\"].to_numpy()\n",
    "y = y.astype(int)\n",
    "\n",
    "X_train, X_test, y_train, y_test = train_test_split(X,\n",
    "                                                    y, \n",
    "                                                    test_size=0.25, \n",
    "                                                    random_state=42)\n",
    "\n",
    "def distance(p, q):\n",
    "    return np.sqrt((p - q) @ (p - q))"
   ]
  },
  {
   "cell_type": "markdown",
   "metadata": {},
   "source": [
    "With the distance function, now we can define a function to compute the k-nearest neighbors to a given point."
   ]
  },
  {
   "cell_type": "code",
   "execution_count": 14,
   "metadata": {},
   "outputs": [],
   "source": [
    "def k_nearest_neighbors(point, \n",
    "                        training_features, \n",
    "                        training_labels, \n",
    "                        k):\n",
    "    # Create an empty list to store neighbors and distances\n",
    "    neighbors = []\n",
    "    \n",
    "    for p, label in zip(training_features, training_labels):\n",
    "        d = distance(point, p)\n",
    "        temp_data = [p, label, d]\n",
    "        neighbors.append(temp_data)\n",
    "        \n",
    "    neighbors.sort(key = lambda x : x[-1])\n",
    "    \n",
    "    return neighbors[:k]"
   ]
  },
  {
   "cell_type": "markdown",
   "metadata": {},
   "source": [
    "Let's test the fucntion above."
   ]
  },
  {
   "cell_type": "code",
   "execution_count": 15,
   "metadata": {},
   "outputs": [
    {
     "data": {
      "text/plain": [
       "[[array([28.04317445, 96.18334151]), 1, 3.375431976641251],\n",
       " [array([26.63444707, 91.96624817]), 1, 5.517248402947842],\n",
       " [array([25.67742044, 90.11821153]), 1, 7.109571200149718],\n",
       " [array([18.99504633, 92.06788736]), 1, 7.744754439265049],\n",
       " [array([19.54978775, 89.95151595]), 1, 8.94024803593901],\n",
       " [array([33.97345483, 87.87080012]), 1, 13.054536763647642]]"
      ]
     },
     "execution_count": 15,
     "metadata": {},
     "output_type": "execute_result"
    }
   ],
   "source": [
    "k_nearest_neighbors(X_test[-1], X_train, y_train, 6)"
   ]
  },
  {
   "cell_type": "code",
   "execution_count": 16,
   "metadata": {},
   "outputs": [
    {
     "data": {
      "text/plain": [
       "1"
      ]
     },
     "execution_count": 16,
     "metadata": {},
     "output_type": "execute_result"
    }
   ],
   "source": [
    "y_test[-1]"
   ]
  },
  {
   "cell_type": "markdown",
   "metadata": {},
   "source": [
    "The true lable  is \"1.0\", and the outputs of our k nearest neighbors function test are all \"1.0\". It looks great!\n",
    "\n",
    "Notice KNN can be used for both classification and regression machine learning. We can adjust the function used for the both. "
   ]
  },
  {
   "cell_type": "code",
   "execution_count": 17,
   "metadata": {},
   "outputs": [
    {
     "data": {
      "text/plain": [
       "1"
      ]
     },
     "execution_count": 17,
     "metadata": {},
     "output_type": "execute_result"
    }
   ],
   "source": [
    "def KNN_Predict(point, \n",
    "                training_features, \n",
    "                training_labels, \n",
    "                k, \n",
    "                regression = False):\n",
    "    \n",
    "    neighbors = k_nearest_neighbors(point, \n",
    "                                    training_features, \n",
    "                                    training_labels, \n",
    "                                    k)\n",
    "    \n",
    "    if regression == False:\n",
    "        labels = [x[1] for x in neighbors]\n",
    "        return max(labels, key = labels.count)\n",
    "    \n",
    "    else:\n",
    "        return sum(x[1] for x in neighbors)/k\n",
    "\n",
    "# Test our function \n",
    "KNN_Predict(X_test[-1], X_train, y_train, 5)"
   ]
  },
  {
   "cell_type": "markdown",
   "metadata": {},
   "source": [
    "It's still great!"
   ]
  },
  {
   "cell_type": "markdown",
   "metadata": {},
   "source": [
    "Next we write a function to compute the classification error"
   ]
  },
  {
   "cell_type": "code",
   "execution_count": 18,
   "metadata": {},
   "outputs": [
    {
     "data": {
      "text/plain": [
       "0.05333333333333334"
      ]
     },
     "execution_count": 18,
     "metadata": {},
     "output_type": "execute_result"
    }
   ],
   "source": [
    "def classification_error(test_features, \n",
    "                         test_labels,\n",
    "                         training_features, \n",
    "                         training_labels,\n",
    "                         k):\n",
    "    error = 0\n",
    "    for point, label in zip(test_features, test_labels):\n",
    "        error += label != KNN_Predict(point, \n",
    "                                      training_features, \n",
    "                                      training_labels, \n",
    "                                      k)\n",
    "    return error/len(test_features)\n",
    "\n",
    "# Test our function\n",
    "classification_error(X_test, y_test, X_train, y_train, 7)"
   ]
  },
  {
   "cell_type": "markdown",
   "metadata": {},
   "source": [
    "How to choose a optional k? Next, we write a function to check errors of different value of K to choose the optional."
   ]
  },
  {
   "cell_type": "code",
   "execution_count": 19,
   "metadata": {},
   "outputs": [
    {
     "data": {
      "image/png": "[encoded data removed]",
      "text/plain": [
       "<Figure size 720x576 with 1 Axes>"
      ]
     },
     "metadata": {},
     "output_type": "display_data"
    }
   ],
   "source": [
    "possible_k = [k for k in range(2, 30, 2)]\n",
    "errors = [classification_error(X_test,\n",
    "                               y_test,\n",
    "                               X_train,\n",
    "                               y_train, k) for k in possible_k]\n",
    "\n",
    "plt.figure(figsize = (10, 8))\n",
    "plt.plot(possible_k, errors, color = 'red', marker = \"o\")\n",
    "plt.xlabel('k', fontsize = 14)\n",
    "plt.ylabel('Classification Error', fontsize = 14)\n",
    "plt.xticks(possible_k)\n",
    "plt.show()"
   ]
  },
  {
   "cell_type": "markdown",
   "metadata": {},
   "source": [
    "As the figure shown above, when k=12, the classification error is minimim."
   ]
  }
 ],
 "metadata": {
  "interpreter": {
   "hash": "aee8b7b246df8f9039afb4144a1f6fd8d2ca17a180786b69acc140d282b71a49"
  },
  "kernelspec": {
   "display_name": "Python 3.8.1 64-bit",
   "language": "python",
   "name": "python3"
  },
  "language_info": {
   "codemirror_mode": {
    "name": "ipython",
    "version": 3
   },
   "file_extension": ".py",
   "mimetype": "text/x-python",
   "name": "python",
   "nbconvert_exporter": "python",
   "pygments_lexer": "ipython3",
   "version": "3.8.1"
  },
  "orig_nbformat": 4
 },
 "nbformat": 4,
 "nbformat_minor": 2
}
